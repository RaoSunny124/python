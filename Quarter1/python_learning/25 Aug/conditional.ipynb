{
 "cells": [
  {
   "cell_type": "code",
   "execution_count": 3,
   "metadata": {},
   "outputs": [
    {
     "name": "stdout",
     "output_type": "stream",
     "text": [
      "hot day\n",
      "Welcome\n"
     ]
    }
   ],
   "source": [
    "temp = float(input(\"enter the temperature\"))\n",
    "\n",
    "if temp > 35:\n",
    "    print(\"hot day\")\n",
    "elif temp >= 20 and temp <= 35:\n",
    "    print(\"plesant day\")\n",
    "else:\n",
    "    print(\"cold day\")   \n",
    "print(\"Welcome\")"
   ]
  },
  {
   "cell_type": "code",
   "execution_count": 1,
   "metadata": {},
   "outputs": [
    {
     "name": "stdout",
     "output_type": "stream",
     "text": [
      "plesant day\n",
      "Welcome\n"
     ]
    }
   ],
   "source": [
    "temp = float(input(\"enter the temperature\"))\n",
    "\n",
    "if temp > 35:\n",
    "    print(\"hot day\")\n",
    "elif temp >= 20 and temp <= 35:\n",
    "    print(\"plesant day\")\n",
    "else:\n",
    "    print(\"cold day\")   \n",
    "print(\"Welcome\")   "
   ]
  }
 ],
 "metadata": {
  "kernelspec": {
   "display_name": "Python 3",
   "language": "python",
   "name": "python3"
  },
  "language_info": {
   "codemirror_mode": {
    "name": "ipython",
    "version": 3
   },
   "file_extension": ".py",
   "mimetype": "text/x-python",
   "name": "python",
   "nbconvert_exporter": "python",
   "pygments_lexer": "ipython3",
   "version": "3.12.4"
  }
 },
 "nbformat": 4,
 "nbformat_minor": 2
}
